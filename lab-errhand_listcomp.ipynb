{
 "cells": [
  {
   "cell_type": "markdown",
   "id": "e30bceee",
   "metadata": {},
   "source": [
    "# ✅ Lab - Errhand_listcomp "
   ]
  },
  {
   "cell_type": "markdown",
   "id": "ec0afcc5",
   "metadata": {},
   "source": [
    "## 1. Calculate the square number of the first 20 numbers. Use square as the name of the list."
   ]
  },
  {
   "cell_type": "code",
   "execution_count": 143,
   "id": "8754e130",
   "metadata": {},
   "outputs": [
    {
     "name": "stdout",
     "output_type": "stream",
     "text": [
      "[0, 1, 4, 9, 16, 25, 36, 49, 64, 81, 100, 121, 144, 169, 196, 225, 256, 289, 324, 361]\n"
     ]
    }
   ],
   "source": [
    "square = [i**2 for i in range(20)]\n",
    "print(square)"
   ]
  },
  {
   "cell_type": "markdown",
   "id": "7bff7eff",
   "metadata": {},
   "source": [
    "## 2. Calculate the first 50 power of two. Use power_of_two as the name of the list."
   ]
  },
  {
   "cell_type": "code",
   "execution_count": 142,
   "id": "780b4f35",
   "metadata": {},
   "outputs": [
    {
     "name": "stdout",
     "output_type": "stream",
     "text": [
      "[1, 2, 4, 8, 16, 32, 64, 128, 256, 512, 1024, 2048, 4096, 8192, 16384, 32768, 65536, 131072, 262144, 524288, 1048576, 2097152, 4194304, 8388608, 16777216, 33554432, 67108864, 134217728, 268435456, 536870912, 1073741824, 2147483648, 4294967296, 8589934592, 17179869184, 34359738368, 68719476736, 137438953472, 274877906944, 549755813888, 1099511627776, 2199023255552, 4398046511104, 8796093022208, 17592186044416, 35184372088832, 70368744177664, 140737488355328, 281474976710656, 562949953421312]\n"
     ]
    }
   ],
   "source": [
    "power_of_two = [2**i for i in range(50)]\n",
    "print(power_of_two)"
   ]
  },
  {
   "cell_type": "markdown",
   "id": "497bedbc",
   "metadata": {},
   "source": [
    "## 3. Calculate the square root of the first 100 numbers. Use sqrt as the name of the list."
   ]
  },
  {
   "cell_type": "code",
   "execution_count": 141,
   "id": "60a551af",
   "metadata": {},
   "outputs": [
    {
     "name": "stdout",
     "output_type": "stream",
     "text": [
      "[0.0, 1.0, 1.4142135623730951, 1.7320508075688772, 2.0, 2.23606797749979, 2.449489742783178, 2.6457513110645907, 2.8284271247461903, 3.0, 3.1622776601683795, 3.3166247903554, 3.4641016151377544, 3.605551275463989, 3.7416573867739413, 3.872983346207417, 4.0, 4.123105625617661, 4.242640687119285, 4.358898943540674, 4.47213595499958, 4.58257569495584, 4.69041575982343, 4.795831523312719, 4.898979485566356, 5.0, 5.0990195135927845, 5.196152422706632, 5.291502622129181, 5.385164807134504, 5.477225575051661, 5.5677643628300215, 5.656854249492381, 5.744562646538029, 5.830951894845301, 5.916079783099616, 6.0, 6.082762530298219, 6.164414002968976, 6.244997998398398, 6.324555320336759, 6.4031242374328485, 6.48074069840786, 6.557438524302, 6.6332495807108, 6.708203932499369, 6.782329983125268, 6.855654600401044, 6.928203230275509, 7.0, 7.0710678118654755, 7.14142842854285, 7.211102550927978, 7.280109889280518, 7.3484692283495345, 7.416198487095663, 7.483314773547883, 7.54983443527075, 7.615773105863909, 7.681145747868608, 7.745966692414834, 7.810249675906654, 7.874007874011811, 7.937253933193772, 8.0, 8.06225774829855, 8.12403840463596, 8.18535277187245, 8.246211251235321, 8.306623862918075, 8.366600265340756, 8.426149773176359, 8.48528137423857, 8.54400374531753, 8.602325267042627, 8.660254037844387, 8.717797887081348, 8.774964387392123, 8.831760866327848, 8.888194417315589, 8.94427190999916, 9.0, 9.055385138137417, 9.1104335791443, 9.16515138991168, 9.219544457292887, 9.273618495495704, 9.327379053088816, 9.38083151964686, 9.433981132056603, 9.486832980505138, 9.539392014169456, 9.591663046625438, 9.643650760992955, 9.695359714832659, 9.746794344808963, 9.797958971132712, 9.848857801796104, 9.899494936611665, 9.9498743710662]\n"
     ]
    }
   ],
   "source": [
    "sqrt = [i**(1/2) for i in range (100)]\n",
    "print(sqrt)"
   ]
  },
  {
   "cell_type": "markdown",
   "id": "9977ef78",
   "metadata": {},
   "source": [
    "## 4. Create this list [-10,-9,-8,-7,-6,-5,-4,-3,-2,-1,0]. Use my_list as the name of the list."
   ]
  },
  {
   "cell_type": "code",
   "execution_count": 75,
   "id": "29c7295f",
   "metadata": {},
   "outputs": [
    {
     "data": {
      "text/plain": [
       "[0, -1, -2, -3, -4, -5, -6, -7, -8, -9, -10]"
      ]
     },
     "execution_count": 75,
     "metadata": {},
     "output_type": "execute_result"
    }
   ],
   "source": [
    "my_list = [-i for i in range(11)]\n",
    "my_list"
   ]
  },
  {
   "cell_type": "code",
   "execution_count": 76,
   "id": "9809eb9b",
   "metadata": {},
   "outputs": [
    {
     "data": {
      "text/plain": [
       "[-10, -9, -8, -7, -6, -5, -4, -3, -2, -1, 0]"
      ]
     },
     "execution_count": 76,
     "metadata": {},
     "output_type": "execute_result"
    }
   ],
   "source": [
    "my_list.sort()\n",
    "my_list"
   ]
  },
  {
   "cell_type": "markdown",
   "id": "3df2d439",
   "metadata": {},
   "source": [
    "## 5. Find the odd numbers from 1-100. Use odds as the name of the list. "
   ]
  },
  {
   "cell_type": "code",
   "execution_count": 140,
   "id": "044f88f7",
   "metadata": {},
   "outputs": [
    {
     "name": "stdout",
     "output_type": "stream",
     "text": [
      "[1, 3, 5, 7, 9, 11, 13, 15, 17, 19, 21, 23, 25, 27, 29, 31, 33, 35, 37, 39, 41, 43, 45, 47, 49, 51, 53, 55, 57, 59, 61, 63, 65, 67, 69, 71, 73, 75, 77, 79, 81, 83, 85, 87, 89, 91, 93, 95, 97, 99]\n"
     ]
    }
   ],
   "source": [
    "odds = [i for i in range (1,100) if i%2 != 0]\n",
    "print(odds)"
   ]
  },
  {
   "cell_type": "markdown",
   "id": "01bc5da1",
   "metadata": {},
   "source": [
    "## 6. Find all of the numbers from 1-1000 that are divisible by 7. Use divisible_by_seven as the name of the list."
   ]
  },
  {
   "cell_type": "code",
   "execution_count": 139,
   "id": "88b10119",
   "metadata": {},
   "outputs": [
    {
     "name": "stdout",
     "output_type": "stream",
     "text": [
      "[7, 14, 21, 28, 35, 42, 49, 56, 63, 70, 77, 84, 91, 98, 105, 112, 119, 126, 133, 140, 147, 154, 161, 168, 175, 182, 189, 196, 203, 210, 217, 224, 231, 238, 245, 252, 259, 266, 273, 280, 287, 294, 301, 308, 315, 322, 329, 336, 343, 350, 357, 364, 371, 378, 385, 392, 399, 406, 413, 420, 427, 434, 441, 448, 455, 462, 469, 476, 483, 490, 497, 504, 511, 518, 525, 532, 539, 546, 553, 560, 567, 574, 581, 588, 595, 602, 609, 616, 623, 630, 637, 644, 651, 658, 665, 672, 679, 686, 693, 700, 707, 714, 721, 728, 735, 742, 749, 756, 763, 770, 777, 784, 791, 798, 805, 812, 819, 826, 833, 840, 847, 854, 861, 868, 875, 882, 889, 896, 903, 910, 917, 924, 931, 938, 945, 952, 959, 966, 973, 980, 987, 994]\n"
     ]
    }
   ],
   "source": [
    "divisible_by_seven = [i for i in range(1,1000) if i%7 == 0]\n",
    "print(divisible_by_seven)"
   ]
  },
  {
   "cell_type": "markdown",
   "id": "05a5fdf1",
   "metadata": {},
   "source": [
    "## 7. Remove all of the vowels in a string. Hint: make a list of the non-vowels. Use non_vowels as the name of the list."
   ]
  },
  {
   "cell_type": "code",
   "execution_count": 79,
   "id": "1d6702ee",
   "metadata": {},
   "outputs": [],
   "source": [
    "teststring = 'Find all of the words in a string that are monosyllabic'"
   ]
  },
  {
   "cell_type": "code",
   "execution_count": 80,
   "id": "b03a5c9c",
   "metadata": {},
   "outputs": [],
   "source": [
    "non_vowels = [\"b\",\"c\",\"d\",\"f\",\"g\",\"h\",\"j\",\"k\",\"l\",\"m\",\"n\",\"ñ\",\"p\",\"q\",\"r\",\"s\",\"t\",\"v\",\"w\",\"x\",\"y\",\"z\"]"
   ]
  },
  {
   "cell_type": "code",
   "execution_count": 138,
   "id": "d41c8f7c",
   "metadata": {},
   "outputs": [
    {
     "name": "stdout",
     "output_type": "stream",
     "text": [
      "['n', 'd', 'l', 'l', 'f', 't', 'h', 'w', 'r', 'd', 's', 'n', 's', 't', 'r', 'n', 'g', 't', 'h', 't', 'r', 'm', 'n', 's', 'y', 'l', 'l', 'b', 'c']\n"
     ]
    }
   ],
   "source": [
    "remove_vowels = [i for i in teststring if i in non_vowels]\n",
    "print(remove_vowels)"
   ]
  },
  {
   "cell_type": "code",
   "execution_count": 137,
   "id": "0aa3337e",
   "metadata": {},
   "outputs": [
    {
     "name": "stdout",
     "output_type": "stream",
     "text": [
      "ndllfthwrdsnstrngthtrmnsyllbc\n"
     ]
    }
   ],
   "source": [
    "string = \"\".join(remove_vowels)\n",
    "print(string)"
   ]
  },
  {
   "cell_type": "markdown",
   "id": "a8c91439",
   "metadata": {},
   "source": [
    "## 8. Find the capital letters (and not white space) in the sentence 'The Quick Brown Fox Jumped Over The Lazy Dog'"
   ]
  },
  {
   "cell_type": "code",
   "execution_count": 83,
   "id": "a70d6b91",
   "metadata": {},
   "outputs": [],
   "source": [
    "frase = \"The Quick Brown Fox Jumped Over The Lazy Dog\""
   ]
  },
  {
   "cell_type": "code",
   "execution_count": 84,
   "id": "03e5653d",
   "metadata": {},
   "outputs": [],
   "source": [
    "mayusculas = [\"A\",\"B\",\"C\",\"D\",\"E\",\"F\",\"G\",\"H\",\"I\",\"J\",\"K\",\"L\",\"M\",\"Ñ\",\"O\",\"P\",\"Q\",\"R\",\"S\",\"T\",\"V\",\"W\",\"X\",\"Y\",\"Z\"]"
   ]
  },
  {
   "cell_type": "code",
   "execution_count": 136,
   "id": "958fc66c",
   "metadata": {},
   "outputs": [
    {
     "name": "stdout",
     "output_type": "stream",
     "text": [
      "['T', 'Q', 'B', 'F', 'J', 'O', 'T', 'L', 'D']\n"
     ]
    }
   ],
   "source": [
    "capital_letters = [i for i in frase if i in mayusculas]\n",
    "print(capital_letters)"
   ]
  },
  {
   "cell_type": "markdown",
   "id": "cdbc3e1e",
   "metadata": {},
   "source": [
    "## 9. Find all the consonants in the sentence 'The quick brown fox jumped over the lazy dog'."
   ]
  },
  {
   "cell_type": "code",
   "execution_count": 86,
   "id": "c82b25e9",
   "metadata": {},
   "outputs": [],
   "source": [
    "non_vowels = [\"b\",\"c\",\"d\",\"f\",\"g\",\"h\",\"j\",\"k\",\"l\",\"m\",\"n\",\"ñ\",\"p\",\"q\",\"r\",\"s\",\"t\",\"v\",\"w\",\"x\",\"y\",\"z\"]"
   ]
  },
  {
   "cell_type": "code",
   "execution_count": 135,
   "id": "aa9f6b6a",
   "metadata": {},
   "outputs": [
    {
     "name": "stdout",
     "output_type": "stream",
     "text": [
      "['n', 'd', 'l', 'l', 'f', 't', 'h', 'w', 'r', 'd', 's', 'n', 's', 't', 'r', 'n', 'g', 't', 'h', 't', 'r', 'm', 'n', 's', 'y', 'l', 'l', 'b', 'c']\n"
     ]
    }
   ],
   "source": [
    "consonants = [i for i in teststring if i in non_vowels]\n",
    "print(consonants)"
   ]
  },
  {
   "cell_type": "markdown",
   "id": "7506df77",
   "metadata": {},
   "source": [
    "## 10. Find the folders you have in your madrid-oct-2018 local repo. Use files as name of the list.  "
   ]
  },
  {
   "cell_type": "code",
   "execution_count": 128,
   "id": "5d9154dd",
   "metadata": {},
   "outputs": [],
   "source": [
    "import os"
   ]
  },
  {
   "cell_type": "markdown",
   "id": "25a3f060",
   "metadata": {},
   "source": [
    "Lo hice sonre el Desktop porque no dispondo de esa carpeta. He interpretado la pregunta como que se me pide mostrar los archivos contenidos en un espacio en este caso mi escritorio.\n",
    "\n",
    "\n",
    "files = [ls for i in Desktop]"
   ]
  },
  {
   "cell_type": "markdown",
   "id": "1c0157b1",
   "metadata": {},
   "source": [
    "## 11. Create 4 lists of 10 random numbers between 0 and 100 each. Use random_lists as the name of the list. "
   ]
  },
  {
   "cell_type": "code",
   "execution_count": 93,
   "id": "0e93057d",
   "metadata": {},
   "outputs": [],
   "source": [
    "import random"
   ]
  },
  {
   "cell_type": "code",
   "execution_count": 101,
   "id": "bd7d6b1a",
   "metadata": {},
   "outputs": [
    {
     "data": {
      "text/plain": [
       "[66, 4, 82, 10]"
      ]
     },
     "execution_count": 101,
     "metadata": {},
     "output_type": "execute_result"
    }
   ],
   "source": [
    "lista1 = [random.randrange(0, 100, 1) for i in range(4)]\n",
    "lista1"
   ]
  },
  {
   "cell_type": "markdown",
   "id": "94c12e52",
   "metadata": {},
   "source": [
    "## 12. Flatten the following list of lists. Use flatten_list as the name of the output."
   ]
  },
  {
   "cell_type": "code",
   "execution_count": 104,
   "id": "031b1ddd",
   "metadata": {},
   "outputs": [],
   "source": [
    "list_of_lists = [[1,2,3],[4,5,6],[7,8,9]]"
   ]
  },
  {
   "cell_type": "code",
   "execution_count": 106,
   "id": "c41efa43",
   "metadata": {},
   "outputs": [
    {
     "data": {
      "text/plain": [
       "[1, 2, 3, 4, 5, 6, 7, 8, 9]"
      ]
     },
     "execution_count": 106,
     "metadata": {},
     "output_type": "execute_result"
    }
   ],
   "source": [
    "lst = [y for x in list_of_lists for y in x]\n",
    "lst"
   ]
  },
  {
   "cell_type": "markdown",
   "id": "23ac5ed0",
   "metadata": {},
   "source": [
    "## 13. Convert the numbers of the following nested list to floats. Use floats as the name of the list. "
   ]
  },
  {
   "cell_type": "code",
   "execution_count": 107,
   "id": "b0918264",
   "metadata": {},
   "outputs": [],
   "source": [
    "list_of_lists = [['40', '20', '10', '30'], ['20', '20', '20', '20', '20', '30', '20'], \\\n",
    "['30', '20', '30', '50', '10', '30', '20', '20', '20'], ['100', '100'], ['100', '100', '100', '100', '100'], \\\n",
    "['100', '100', '100', '100']]"
   ]
  },
  {
   "cell_type": "code",
   "execution_count": 134,
   "id": "d004f9e4",
   "metadata": {},
   "outputs": [
    {
     "name": "stdout",
     "output_type": "stream",
     "text": [
      "['40', '20', '10', '30', '20', '20', '20', '20', '20', '30', '20', '30', '20', '30', '50', '10', '30', '20', '20', '20', '100', '100', '100', '100', '100', '100', '100', '100', '100', '100', '100']\n"
     ]
    }
   ],
   "source": [
    "float_ = [y for x in list_of_lists for y in x]\n",
    "print(float_)"
   ]
  },
  {
   "cell_type": "code",
   "execution_count": 118,
   "id": "b4fcb91a",
   "metadata": {},
   "outputs": [],
   "source": [
    "#float2 [print(float(i)) for i in float_]"
   ]
  },
  {
   "cell_type": "markdown",
   "id": "f897333c",
   "metadata": {},
   "source": [
    "## 14. Handle the exception thrown by the code below by using try and except blocks. "
   ]
  },
  {
   "cell_type": "code",
   "execution_count": 89,
   "id": "70bbfb40",
   "metadata": {},
   "outputs": [
    {
     "name": "stdout",
     "output_type": "stream",
     "text": [
      "An int or float is expected, not a str\n",
      "An int or float is expected, not a str\n",
      "An int or float is expected, not a str\n"
     ]
    }
   ],
   "source": [
    "for i in ['a','b','c']:\n",
    "    try:\n",
    "        print (i**2)\n",
    "    except:\n",
    "        if type(i) == str:\n",
    "            print(\"An int or float is expected, not a str\")"
   ]
  },
  {
   "cell_type": "markdown",
   "id": "f9e494ab",
   "metadata": {},
   "source": [
    "## 15. Handle the exception thrown by the code below by using try and except blocks. "
   ]
  },
  {
   "cell_type": "code",
   "execution_count": 90,
   "id": "c4a3684c",
   "metadata": {},
   "outputs": [
    {
     "name": "stdout",
     "output_type": "stream",
     "text": [
      "Doesn´t exist, cannot divide by zero\n"
     ]
    }
   ],
   "source": [
    "x = 5\n",
    "y = 0\n",
    "\n",
    "try:\n",
    "    z = x/y\n",
    "except:\n",
    "    if y == 0:\n",
    "        print(\"Doesn´t exist, cannot divide by zero\")"
   ]
  },
  {
   "cell_type": "markdown",
   "id": "23cb2751",
   "metadata": {},
   "source": [
    "## 16. Handle the exception thrown by the code below by using try and except blocks. "
   ]
  },
  {
   "cell_type": "code",
   "execution_count": 91,
   "id": "b5074af4",
   "metadata": {},
   "outputs": [
    {
     "name": "stdout",
     "output_type": "stream",
     "text": [
      "There is no index 3\n"
     ]
    }
   ],
   "source": [
    "abc = [10,20,20]\n",
    "\n",
    "try:\n",
    "    print(abc[3])\n",
    "except:\n",
    "    print(\"There is no index 3\")"
   ]
  },
  {
   "cell_type": "markdown",
   "id": "8926e875",
   "metadata": {},
   "source": [
    "## 17. Handle at least two kind of different exceptions when dividing a couple of numbers provided by the user. "
   ]
  },
  {
   "cell_type": "code",
   "execution_count": 92,
   "id": "4298f100",
   "metadata": {},
   "outputs": [
    {
     "data": {
      "text/plain": [
       "0"
      ]
     },
     "execution_count": 92,
     "metadata": {},
     "output_type": "execute_result"
    }
   ],
   "source": [
    "def divide (x,y):\n",
    "    if y == 0:\n",
    "        return 0\n",
    "    else:\n",
    "        return x/y\n",
    "    \n",
    "divide (10, 0)"
   ]
  },
  {
   "cell_type": "markdown",
   "id": "baf85c4e",
   "metadata": {},
   "source": [
    "## 18. Handle the exception thrown by the code below by using try and except blocks. "
   ]
  },
  {
   "cell_type": "code",
   "execution_count": null,
   "id": "88337ce7",
   "metadata": {},
   "outputs": [],
   "source": [
    "f = open('testfile','r')\n",
    "f.write('Test write this')"
   ]
  },
  {
   "cell_type": "markdown",
   "id": "6f420daa",
   "metadata": {},
   "source": [
    "## 19. Handle the exceptions that can be thrown by the code below using try and except blocks. "
   ]
  },
  {
   "cell_type": "code",
   "execution_count": null,
   "id": "a4528560",
   "metadata": {},
   "outputs": [],
   "source": [
    "fp = open('myfile.txt')\n",
    "    line = f.readline()\n",
    "    i = int(s.strip())"
   ]
  },
  {
   "cell_type": "markdown",
   "id": "bd765300",
   "metadata": {},
   "source": [
    " ## 20. The following function can only run on a Linux system. "
   ]
  },
  {
   "cell_type": "code",
   "execution_count": null,
   "id": "3e5a30fb",
   "metadata": {},
   "outputs": [],
   "source": [
    "def linux_interaction():\n",
    "    assert ('linux' in sys.platform), \"Function can only run on Linux systems.\"\n",
    "    print('Doing something.')"
   ]
  },
  {
   "cell_type": "markdown",
   "id": "04aecc66",
   "metadata": {},
   "source": [
    "# ⭐ Bonus "
   ]
  },
  {
   "cell_type": "markdown",
   "id": "7ed267eb",
   "metadata": {},
   "source": [
    "## 21.  Write a function that asks for an integer and prints the square of it. "
   ]
  },
  {
   "cell_type": "code",
   "execution_count": 125,
   "id": "93d6772d",
   "metadata": {},
   "outputs": [],
   "source": [
    "#number = int(input(\" Please Enter any numeric Value : \"))"
   ]
  },
  {
   "cell_type": "code",
   "execution_count": 126,
   "id": "f53bd8fe",
   "metadata": {},
   "outputs": [],
   "source": [
    "#square = number * number"
   ]
  },
  {
   "cell_type": "code",
   "execution_count": 149,
   "id": "0af00544",
   "metadata": {},
   "outputs": [],
   "source": [
    "def square():\n",
    "    number = int(input(\" Please Enter any numeric Value : \"))\n",
    "    square = number * number\n",
    "    return square"
   ]
  },
  {
   "cell_type": "code",
   "execution_count": 150,
   "id": "f8f30ce0",
   "metadata": {},
   "outputs": [
    {
     "name": "stdout",
     "output_type": "stream",
     "text": [
      " Please Enter any numeric Value : 2\n"
     ]
    },
    {
     "data": {
      "text/plain": [
       "4"
      ]
     },
     "execution_count": 150,
     "metadata": {},
     "output_type": "execute_result"
    }
   ],
   "source": [
    "square()"
   ]
  },
  {
   "cell_type": "markdown",
   "id": "2d7a1bd8",
   "metadata": {},
   "source": [
    "## 22. Find all of the numbers from 1-1000 that are divisible by any single digit besides 1 (2-9). \n"
   ]
  },
  {
   "cell_type": "code",
   "execution_count": 133,
   "id": "a21148a5",
   "metadata": {},
   "outputs": [
    {
     "name": "stdout",
     "output_type": "stream",
     "text": [
      "[2, 3, 4, 5, 6, 7, 8, 9, 10, 12, 14, 15, 16, 18, 20, 21, 22, 24, 25, 26, 27, 28, 30, 32, 33, 34, 35, 36, 38, 39, 40, 42, 44, 45, 46, 48, 49, 50, 51, 52, 54, 55, 56, 57, 58, 60, 62, 63, 64, 65, 66, 68, 69, 70, 72, 74, 75, 76, 77, 78, 80, 81, 82, 84, 85, 86, 87, 88, 90, 91, 92, 93, 94, 95, 96, 98, 99, 100, 102, 104, 105, 106, 108, 110, 111, 112, 114, 115, 116, 117, 118, 119, 120, 122, 123, 124, 125, 126, 128, 129, 130, 132, 133, 134, 135, 136, 138, 140, 141, 142, 144, 145, 146, 147, 148, 150, 152, 153, 154, 155, 156, 158, 159, 160, 161, 162, 164, 165, 166, 168, 170, 171, 172, 174, 175, 176, 177, 178, 180, 182, 183, 184, 185, 186, 188, 189, 190, 192, 194, 195, 196, 198, 200, 201, 202, 203, 204, 205, 206, 207, 208, 210, 212, 213, 214, 215, 216, 217, 218, 219, 220, 222, 224, 225, 226, 228, 230, 231, 232, 234, 235, 236, 237, 238, 240, 242, 243, 244, 245, 246, 248, 249, 250, 252, 254, 255, 256, 258, 259, 260, 261, 262, 264, 265, 266, 267, 268, 270, 272, 273, 274, 275, 276, 278, 279, 280, 282, 284, 285, 286, 287, 288, 290, 291, 292, 294, 295, 296, 297, 298, 300, 301, 302, 303, 304, 305, 306, 308, 309, 310, 312, 314, 315, 316, 318, 320, 321, 322, 324, 325, 326, 327, 328, 329, 330, 332, 333, 334, 335, 336, 338, 339, 340, 342, 343, 344, 345, 346, 348, 350, 351, 352, 354, 355, 356, 357, 358, 360, 362, 363, 364, 365, 366, 368, 369, 370, 371, 372, 374, 375, 376, 378, 380, 381, 382, 384, 385, 386, 387, 388, 390, 392, 393, 394, 395, 396, 398, 399, 400, 402, 404, 405, 406, 408, 410, 411, 412, 413, 414, 415, 416, 417, 418, 420, 422, 423, 424, 425, 426, 427, 428, 429, 430, 432, 434, 435, 436, 438, 440, 441, 442, 444, 445, 446, 447, 448, 450, 452, 453, 454, 455, 456, 458, 459, 460, 462, 464, 465, 466, 468, 469, 470, 471, 472, 474, 475, 476, 477, 478, 480, 482, 483, 484, 485, 486, 488, 489, 490, 492, 494, 495, 496, 497, 498, 500, 501, 502, 504, 505, 506, 507, 508, 510, 511, 512, 513, 514, 515, 516, 518, 519, 520, 522, 524, 525, 526, 528, 530, 531, 532, 534, 535, 536, 537, 538, 539, 540, 542, 543, 544, 545, 546, 548, 549, 550, 552, 553, 554, 555, 556, 558, 560, 561, 562, 564, 565, 566, 567, 568, 570, 572, 573, 574, 575, 576, 578, 579, 580, 581, 582, 584, 585, 586, 588, 590, 591, 592, 594, 595, 596, 597, 598, 600, 602, 603, 604, 605, 606, 608, 609, 610, 612, 614, 615, 616, 618, 620, 621, 622, 623, 624, 625, 626, 627, 628, 630, 632, 633, 634, 635, 636, 637, 638, 639, 640, 642, 644, 645, 646, 648, 650, 651, 652, 654, 655, 656, 657, 658, 660, 662, 663, 664, 665, 666, 668, 669, 670, 672, 674, 675, 676, 678, 679, 680, 681, 682, 684, 685, 686, 687, 688, 690, 692, 693, 694, 695, 696, 698, 699, 700, 702, 704, 705, 706, 707, 708, 710, 711, 712, 714, 715, 716, 717, 718, 720, 721, 722, 723, 724, 725, 726, 728, 729, 730, 732, 734, 735, 736, 738, 740, 741, 742, 744, 745, 746, 747, 748, 749, 750, 752, 753, 754, 755, 756, 758, 759, 760, 762, 763, 764, 765, 766, 768, 770, 771, 772, 774, 775, 776, 777, 778, 780, 782, 783, 784, 785, 786, 788, 789, 790, 791, 792, 794, 795, 796, 798, 800, 801, 802, 804, 805, 806, 807, 808, 810, 812, 813, 814, 815, 816, 818, 819, 820, 822, 824, 825, 826, 828, 830, 831, 832, 833, 834, 835, 836, 837, 838, 840, 842, 843, 844, 845, 846, 847, 848, 849, 850, 852, 854, 855, 856, 858, 860, 861, 862, 864, 865, 866, 867, 868, 870, 872, 873, 874, 875, 876, 878, 879, 880, 882, 884, 885, 886, 888, 889, 890, 891, 892, 894, 895, 896, 897, 898, 900, 902, 903, 904, 905, 906, 908, 909, 910, 912, 914, 915, 916, 917, 918, 920, 921, 922, 924, 925, 926, 927, 928, 930, 931, 932, 933, 934, 935, 936, 938, 939, 940, 942, 944, 945, 946, 948, 950, 951, 952, 954, 955, 956, 957, 958, 959, 960, 962, 963, 964, 965, 966, 968, 969, 970, 972, 973, 974, 975, 976, 978, 980, 981, 982, 984, 985, 986, 987, 988, 990, 992, 993, 994, 995, 996, 998, 999, 1000]\n"
     ]
    }
   ],
   "source": [
    "divisible = [i for i in range(1,1001) if [x for x in range(2,10) if i % x == 0]]\n",
    "print(divisible)\n"
   ]
  },
  {
   "cell_type": "markdown",
   "id": "4166d137",
   "metadata": {},
   "source": [
    "## 23. Define a customised exception to handle not accepted values. "
   ]
  },
  {
   "cell_type": "code",
   "execution_count": null,
   "id": "82285140",
   "metadata": {},
   "outputs": [],
   "source": [
    "#Total_Marks = int(input(\"Enter Total Marks Scored: \")) \n",
    "#Num_of_Sections = int(input(\"Enter Num of Sections: \"))"
   ]
  }
 ],
 "metadata": {
  "kernelspec": {
   "display_name": "OLAYA1",
   "language": "python",
   "name": "olaya1"
  },
  "language_info": {
   "codemirror_mode": {
    "name": "ipython",
    "version": 3
   },
   "file_extension": ".py",
   "mimetype": "text/x-python",
   "name": "python",
   "nbconvert_exporter": "python",
   "pygments_lexer": "ipython3",
   "version": "3.8.5"
  }
 },
 "nbformat": 4,
 "nbformat_minor": 5
}
