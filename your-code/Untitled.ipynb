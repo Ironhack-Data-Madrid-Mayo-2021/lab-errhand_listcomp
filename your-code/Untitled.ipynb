{
 "cells": [
  {
   "cell_type": "markdown",
   "id": "fdbdc9a6",
   "metadata": {},
   "source": [
    "## 1. Calculate the square number of the first 20 numbers. Use square as the name of the list. Remember to use list comprehensions and to print your results"
   ]
  },
  {
   "cell_type": "code",
   "execution_count": 16,
   "id": "8c122c93",
   "metadata": {},
   "outputs": [
    {
     "data": {
      "text/plain": [
       "[1, 4, 9, 16, 25, 36, 49, 64, 81, 100]"
      ]
     },
     "execution_count": 16,
     "metadata": {},
     "output_type": "execute_result"
    }
   ],
   "source": [
    "square = [n**2 for n in range(1,20)]\n",
    "square[:10]"
   ]
  },
  {
   "cell_type": "markdown",
   "id": "4caa4ab0",
   "metadata": {},
   "source": [
    "## 2. Calculate the first 50 power of two. Use power_of_two as the name of the list. Remember to use list comprehensions and to print your results"
   ]
  },
  {
   "cell_type": "code",
   "execution_count": 15,
   "id": "c5177b96",
   "metadata": {},
   "outputs": [
    {
     "data": {
      "text/plain": [
       "[2, 4, 8, 16, 32, 64, 128, 256, 512, 1024]"
      ]
     },
     "execution_count": 15,
     "metadata": {},
     "output_type": "execute_result"
    }
   ],
   "source": [
    "power_of_two = [2**n for n in range(1,50)]\n",
    "power_of_two[:10]"
   ]
  },
  {
   "cell_type": "markdown",
   "id": "1f3d5702",
   "metadata": {},
   "source": [
    "## 3. Calculate the square root of the first 100 numbers. Use sqrt as the name of the list. You will probably need to install math library with pip and import it in this file. Remember to use list comprehensions and to print your results"
   ]
  },
  {
   "cell_type": "code",
   "execution_count": 3,
   "id": "97ff0999",
   "metadata": {},
   "outputs": [],
   "source": [
    "import math"
   ]
  },
  {
   "cell_type": "code",
   "execution_count": 14,
   "id": "3bcc0aa3",
   "metadata": {},
   "outputs": [
    {
     "data": {
      "text/plain": [
       "[1.0,\n",
       " 1.4142135623730951,\n",
       " 1.7320508075688772,\n",
       " 2.0,\n",
       " 2.23606797749979,\n",
       " 2.449489742783178,\n",
       " 2.6457513110645907,\n",
       " 2.8284271247461903,\n",
       " 3.0,\n",
       " 3.1622776601683795]"
      ]
     },
     "execution_count": 14,
     "metadata": {},
     "output_type": "execute_result"
    }
   ],
   "source": [
    "sqrt = [math.sqrt(n) for n in range(1,100)]\n",
    "sqrt[:10]"
   ]
  },
  {
   "cell_type": "markdown",
   "id": "6e49f060",
   "metadata": {},
   "source": [
    "## 4. Create this list [-10,-9,-8,-7,-6,-5,-4,-3,-2,-1,0]. Use my_list as the name of the list. Remember to use list comprehensions and to print your results"
   ]
  },
  {
   "cell_type": "code",
   "execution_count": 7,
   "id": "775aef25",
   "metadata": {},
   "outputs": [
    {
     "data": {
      "text/plain": [
       "[-10, -9, -8, -7, -6, -5, -4, -3, -2, -1, 0]"
      ]
     },
     "execution_count": 7,
     "metadata": {},
     "output_type": "execute_result"
    }
   ],
   "source": [
    "my_list = [n for n in range(-10,1)]\n",
    "my_list"
   ]
  },
  {
   "cell_type": "markdown",
   "id": "4688f466",
   "metadata": {},
   "source": [
    "## 5. Find the odd numbers from 1-100. Use odds as the name of the list. Remember to use list comprehensions and to print your results\n"
   ]
  },
  {
   "cell_type": "code",
   "execution_count": 13,
   "id": "ff7fcf3f",
   "metadata": {},
   "outputs": [
    {
     "data": {
      "text/plain": [
       "[1, 3, 5, 7, 9, 11, 13, 15, 17, 19]"
      ]
     },
     "execution_count": 13,
     "metadata": {},
     "output_type": "execute_result"
    }
   ],
   "source": [
    "odds = [n for n in range(1,100) if n % 2 == 1]\n",
    "odds[:10]"
   ]
  },
  {
   "cell_type": "markdown",
   "id": "0d1a2d36",
   "metadata": {},
   "source": [
    "## 6. Find all of the numbers from 1-1000 that are divisible by 7. Use divisible_by_seven as the name of the list. Remember to use list comprehensions and to print your results"
   ]
  },
  {
   "cell_type": "code",
   "execution_count": 12,
   "id": "1a4fc7aa",
   "metadata": {},
   "outputs": [
    {
     "data": {
      "text/plain": [
       "[7, 14, 21, 28, 35, 42, 49, 56, 63, 70]"
      ]
     },
     "execution_count": 12,
     "metadata": {},
     "output_type": "execute_result"
    }
   ],
   "source": [
    "divisible_by_seven = [n for n in range(1,1000) if n % 7 == 0]\n",
    "divisible_by_seven[:10]"
   ]
  },
  {
   "cell_type": "markdown",
   "id": "0731a381",
   "metadata": {},
   "source": [
    "## 7. Remove all of the vowels in a string. Hint: make a list of the non-vowels. Use non_vowels as the name of the list. Remember to use list comprehensions and to print your results. You can use the following test string but feel free to modify at your convenience\n",
    "\n",
    "teststring = 'Find all of the words in a string that are monosyllabic'"
   ]
  },
  {
   "cell_type": "code",
   "execution_count": 19,
   "id": "56b331ab",
   "metadata": {},
   "outputs": [],
   "source": [
    "teststring = 'Find all of the words in a string that are monosyllabic'"
   ]
  },
  {
   "cell_type": "code",
   "execution_count": 23,
   "id": "cbb0f501",
   "metadata": {},
   "outputs": [],
   "source": [
    "vowels = [\"a\", \"e\", \"i\", \"o\", \"u\"]"
   ]
  },
  {
   "cell_type": "code",
   "execution_count": null,
   "id": "53dc8948",
   "metadata": {},
   "outputs": [],
   "source": []
  },
  {
   "cell_type": "code",
   "execution_count": 24,
   "id": "eb8c7467",
   "metadata": {},
   "outputs": [
    {
     "data": {
      "text/plain": [
       "'Fnd ll f th wrds n  strng tht r mnsyllbc'"
      ]
     },
     "execution_count": 24,
     "metadata": {},
     "output_type": "execute_result"
    }
   ],
   "source": [
    "non_vowels = [w for w in teststring if w not in vowels]\n",
    "\"\".join(non_vowels)"
   ]
  },
  {
   "cell_type": "markdown",
   "id": "4a34e1eb",
   "metadata": {},
   "source": [
    "## 8. Find the capital letters (and not white space) in the sentence 'The Quick Brown Fox Jumped Over The Lazy Dog'. Use capital_letters as the name of the list. Remember to use list comprehensions and to print your results\n"
   ]
  },
  {
   "cell_type": "code",
   "execution_count": 25,
   "id": "64791fe2",
   "metadata": {},
   "outputs": [],
   "source": [
    "sentence = \"The Quick Brown Fox Jumped Over The Lazy Dog\""
   ]
  },
  {
   "cell_type": "code",
   "execution_count": 26,
   "id": "1fc95fbd",
   "metadata": {},
   "outputs": [
    {
     "data": {
      "text/plain": [
       "['T', 'Q', 'B', 'F', 'J', 'O', 'T', 'L', 'D']"
      ]
     },
     "execution_count": 26,
     "metadata": {},
     "output_type": "execute_result"
    }
   ],
   "source": [
    "capital_letters = [w for w in sentence if w.isupper() is True]\n",
    "capital_letters"
   ]
  },
  {
   "cell_type": "markdown",
   "id": "45018027",
   "metadata": {},
   "source": [
    "## 9. Find all the consonants in the sentence 'The quick brown fox jumped over the lazy dog'. Use consonants as the name of the list. Remember to use list comprehensions and to print your results."
   ]
  },
  {
   "cell_type": "code",
   "execution_count": 27,
   "id": "13605001",
   "metadata": {},
   "outputs": [],
   "source": [
    "sentence_1 = 'The quick brown fox jumped over the lazy dog'"
   ]
  },
  {
   "cell_type": "code",
   "execution_count": 28,
   "id": "ce2af727",
   "metadata": {},
   "outputs": [
    {
     "data": {
      "text/plain": [
       "['T',\n",
       " 'h',\n",
       " ' ',\n",
       " 'q',\n",
       " 'c',\n",
       " 'k',\n",
       " ' ',\n",
       " 'b',\n",
       " 'r',\n",
       " 'w',\n",
       " 'n',\n",
       " ' ',\n",
       " 'f',\n",
       " 'x',\n",
       " ' ',\n",
       " 'j',\n",
       " 'm',\n",
       " 'p',\n",
       " 'd',\n",
       " ' ',\n",
       " 'v',\n",
       " 'r',\n",
       " ' ',\n",
       " 't',\n",
       " 'h',\n",
       " ' ',\n",
       " 'l',\n",
       " 'z',\n",
       " 'y',\n",
       " ' ',\n",
       " 'd',\n",
       " 'g']"
      ]
     },
     "execution_count": 28,
     "metadata": {},
     "output_type": "execute_result"
    }
   ],
   "source": [
    "consonants = [n for n in sentence_1 if n not in vowels]\n",
    "consonants"
   ]
  },
  {
   "cell_type": "markdown",
   "id": "82eb4b26",
   "metadata": {},
   "source": [
    "## 10. Find the folders you have in your madrid-oct-2018 local repo. Use files as name of the list. You will probably need to import os library and some of its modules. You will need to make some online research. Remember to use list comprehensions and to print your results."
   ]
  },
  {
   "cell_type": "code",
   "execution_count": 29,
   "id": "b6df1697",
   "metadata": {},
   "outputs": [],
   "source": [
    "import os"
   ]
  },
  {
   "cell_type": "code",
   "execution_count": 56,
   "id": "ab97c750",
   "metadata": {},
   "outputs": [],
   "source": [
    "path = \"/mnt/c/Users/alvar/Documents/Ironhack\""
   ]
  },
  {
   "cell_type": "code",
   "execution_count": 58,
   "id": "cb5cf183",
   "metadata": {},
   "outputs": [],
   "source": [
    "file_list = os.listdir(path)"
   ]
  },
  {
   "cell_type": "code",
   "execution_count": 59,
   "id": "65c02754",
   "metadata": {},
   "outputs": [
    {
     "data": {
      "text/plain": [
       "['03-basic_data_types.ipynb',\n",
       " 'Course',\n",
       " 'Pre-work',\n",
       " 'Profile pic.PNG',\n",
       " 'Useful']"
      ]
     },
     "execution_count": 59,
     "metadata": {},
     "output_type": "execute_result"
    }
   ],
   "source": [
    "files = [f for f in file_list]\n",
    "files"
   ]
  },
  {
   "cell_type": "markdown",
   "id": "8470e224",
   "metadata": {},
   "source": [
    "## 11. Create 4 lists of 10 random numbers between 0 and 100 each. Use random_lists as the name of the list. You will probably need to import random module. Remember to use list comprehensions and to print your results"
   ]
  },
  {
   "cell_type": "code",
   "execution_count": 60,
   "id": "670821d9",
   "metadata": {},
   "outputs": [],
   "source": [
    "import random"
   ]
  },
  {
   "cell_type": "markdown",
   "id": "6191de63",
   "metadata": {},
   "source": [
    "## 12. Flatten the following list of lists. Use flatten_list as the name of the output. Remember to use list comprehensions and to print your results"
   ]
  },
  {
   "cell_type": "code",
   "execution_count": 61,
   "id": "60d0171f",
   "metadata": {},
   "outputs": [],
   "source": [
    "list_of_lists = [[1,2,3],[4,5,6],[7,8,9]]"
   ]
  },
  {
   "cell_type": "code",
   "execution_count": 69,
   "id": "e774c0d4",
   "metadata": {},
   "outputs": [
    {
     "data": {
      "text/plain": [
       "[1, 2, 3, 4, 5, 6, 7, 8, 9]"
      ]
     },
     "execution_count": 69,
     "metadata": {},
     "output_type": "execute_result"
    }
   ],
   "source": [
    "flatten_list = [e for sublist in list_of_lists for e in sublist]\n",
    "flatten_list"
   ]
  },
  {
   "cell_type": "markdown",
   "id": "512970bc",
   "metadata": {},
   "source": [
    "## 13. Convert the numbers of the following nested list to floats. Use floats as the name of the list. Remember to use list comprehensions and to print your results."
   ]
  },
  {
   "cell_type": "code",
   "execution_count": 70,
   "id": "ffe8f894",
   "metadata": {},
   "outputs": [],
   "source": [
    "list_of_lists_2 = [['40', '20', '10', '30'], ['20', '20', '20', '20', '20', '30', '20'], ['30', '20', '30', '50', '10', '30', '20', '20', '20'], ['100', '100'], ['100', '100', '100', '100', '100'],\n",
    "['100', '100', '100', '100']]"
   ]
  },
  {
   "cell_type": "code",
   "execution_count": 72,
   "id": "f0bf65f6",
   "metadata": {},
   "outputs": [
    {
     "data": {
      "text/plain": [
       "[40.0, 20.0, 10.0, 30.0, 20.0, 20.0, 20.0, 20.0, 20.0, 30.0]"
      ]
     },
     "execution_count": 72,
     "metadata": {},
     "output_type": "execute_result"
    }
   ],
   "source": [
    "floats = [float(e) for sublist in list_of_lists_2 for e in sublist]\n",
    "floats[:10]"
   ]
  },
  {
   "cell_type": "code",
   "execution_count": null,
   "id": "42081101",
   "metadata": {},
   "outputs": [],
   "source": []
  }
 ],
 "metadata": {
  "kernelspec": {
   "display_name": "ironhack",
   "language": "python",
   "name": "ironhack"
  },
  "language_info": {
   "codemirror_mode": {
    "name": "ipython",
    "version": 3
   },
   "file_extension": ".py",
   "mimetype": "text/x-python",
   "name": "python",
   "nbconvert_exporter": "python",
   "pygments_lexer": "ipython3",
   "version": "3.8.10"
  }
 },
 "nbformat": 4,
 "nbformat_minor": 5
}
