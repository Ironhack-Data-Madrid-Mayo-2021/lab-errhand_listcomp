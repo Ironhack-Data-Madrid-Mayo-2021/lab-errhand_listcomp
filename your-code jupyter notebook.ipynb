{
 "cells": [
  {
   "cell_type": "markdown",
   "id": "86812152",
   "metadata": {},
   "source": [
    "## List comprehensions"
   ]
  },
  {
   "cell_type": "code",
   "execution_count": 1,
   "id": "88d4f5d6",
   "metadata": {},
   "outputs": [],
   "source": [
    "#Insert here the module/library import statements "
   ]
  },
  {
   "cell_type": "code",
   "execution_count": 2,
   "id": "c88c0450",
   "metadata": {},
   "outputs": [],
   "source": [
    "import math\n",
    "import string\n",
    "import random"
   ]
  },
  {
   "cell_type": "code",
   "execution_count": 3,
   "id": "c07a5306",
   "metadata": {},
   "outputs": [],
   "source": [
    "#1.Calculate the square number of the first 20 numbers. Use square as the name of the list. \n",
    "#Remember to use list comprehensions and to print your results"
   ]
  },
  {
   "cell_type": "code",
   "execution_count": 4,
   "id": "1df735ed",
   "metadata": {},
   "outputs": [],
   "source": [
    "numero = list(range(1,21))"
   ]
  },
  {
   "cell_type": "code",
   "execution_count": 5,
   "id": "f3c73ae5",
   "metadata": {},
   "outputs": [],
   "source": [
    "square = [n**2 for n in numero]"
   ]
  },
  {
   "cell_type": "code",
   "execution_count": 6,
   "id": "f224b270",
   "metadata": {},
   "outputs": [
    {
     "data": {
      "text/plain": [
       "[1,\n",
       " 4,\n",
       " 9,\n",
       " 16,\n",
       " 25,\n",
       " 36,\n",
       " 49,\n",
       " 64,\n",
       " 81,\n",
       " 100,\n",
       " 121,\n",
       " 144,\n",
       " 169,\n",
       " 196,\n",
       " 225,\n",
       " 256,\n",
       " 289,\n",
       " 324,\n",
       " 361,\n",
       " 400]"
      ]
     },
     "execution_count": 6,
     "metadata": {},
     "output_type": "execute_result"
    }
   ],
   "source": [
    "square"
   ]
  },
  {
   "cell_type": "code",
   "execution_count": 7,
   "id": "9c49146f",
   "metadata": {},
   "outputs": [],
   "source": [
    "\n",
    "#2. Calculate the first 50 power of two. Use power_of_two as the name of the list.\n",
    "# Remember to use list comprehensions and to print your results"
   ]
  },
  {
   "cell_type": "code",
   "execution_count": 8,
   "id": "44ed1d40",
   "metadata": {},
   "outputs": [],
   "source": [
    "numero = list(range(1,51))"
   ]
  },
  {
   "cell_type": "code",
   "execution_count": 9,
   "id": "d96fa26e",
   "metadata": {},
   "outputs": [],
   "source": [
    "power_of_two = [2**n for n in numero]"
   ]
  },
  {
   "cell_type": "code",
   "execution_count": 10,
   "id": "4bbfee15",
   "metadata": {},
   "outputs": [
    {
     "data": {
      "text/plain": [
       "[2,\n",
       " 4,\n",
       " 8,\n",
       " 16,\n",
       " 32,\n",
       " 64,\n",
       " 128,\n",
       " 256,\n",
       " 512,\n",
       " 1024,\n",
       " 2048,\n",
       " 4096,\n",
       " 8192,\n",
       " 16384,\n",
       " 32768,\n",
       " 65536,\n",
       " 131072,\n",
       " 262144,\n",
       " 524288,\n",
       " 1048576,\n",
       " 2097152,\n",
       " 4194304,\n",
       " 8388608,\n",
       " 16777216,\n",
       " 33554432,\n",
       " 67108864,\n",
       " 134217728,\n",
       " 268435456,\n",
       " 536870912,\n",
       " 1073741824,\n",
       " 2147483648,\n",
       " 4294967296,\n",
       " 8589934592,\n",
       " 17179869184,\n",
       " 34359738368,\n",
       " 68719476736,\n",
       " 137438953472,\n",
       " 274877906944,\n",
       " 549755813888,\n",
       " 1099511627776,\n",
       " 2199023255552,\n",
       " 4398046511104,\n",
       " 8796093022208,\n",
       " 17592186044416,\n",
       " 35184372088832,\n",
       " 70368744177664,\n",
       " 140737488355328,\n",
       " 281474976710656,\n",
       " 562949953421312,\n",
       " 1125899906842624]"
      ]
     },
     "execution_count": 10,
     "metadata": {},
     "output_type": "execute_result"
    }
   ],
   "source": [
    "power_of_two"
   ]
  },
  {
   "cell_type": "code",
   "execution_count": 11,
   "id": "73f7bed3",
   "metadata": {},
   "outputs": [],
   "source": [
    "#3. Calculate the square root of the first 100 numbers. Use sqrt as the name of the list.\n",
    "# You will probably need to install math library with pip and import it in this file.  \n",
    "# Remember to use list comprehensions and to print your results"
   ]
  },
  {
   "cell_type": "code",
   "execution_count": 12,
   "id": "2bec3361",
   "metadata": {},
   "outputs": [],
   "source": [
    "numero = list(range(1,101))"
   ]
  },
  {
   "cell_type": "code",
   "execution_count": 13,
   "id": "f44eb8c0",
   "metadata": {},
   "outputs": [],
   "source": [
    "sqrt = [math.sqrt(n) for n in numero]"
   ]
  },
  {
   "cell_type": "code",
   "execution_count": 14,
   "id": "4547074d",
   "metadata": {},
   "outputs": [
    {
     "data": {
      "text/plain": [
       "[1.0,\n",
       " 1.4142135623730951,\n",
       " 1.7320508075688772,\n",
       " 2.0,\n",
       " 2.23606797749979,\n",
       " 2.449489742783178,\n",
       " 2.6457513110645907,\n",
       " 2.8284271247461903,\n",
       " 3.0,\n",
       " 3.1622776601683795,\n",
       " 3.3166247903554,\n",
       " 3.4641016151377544,\n",
       " 3.605551275463989,\n",
       " 3.7416573867739413,\n",
       " 3.872983346207417,\n",
       " 4.0,\n",
       " 4.123105625617661,\n",
       " 4.242640687119285,\n",
       " 4.358898943540674,\n",
       " 4.47213595499958,\n",
       " 4.58257569495584,\n",
       " 4.69041575982343,\n",
       " 4.795831523312719,\n",
       " 4.898979485566356,\n",
       " 5.0,\n",
       " 5.0990195135927845,\n",
       " 5.196152422706632,\n",
       " 5.291502622129181,\n",
       " 5.385164807134504,\n",
       " 5.477225575051661,\n",
       " 5.5677643628300215,\n",
       " 5.656854249492381,\n",
       " 5.744562646538029,\n",
       " 5.830951894845301,\n",
       " 5.916079783099616,\n",
       " 6.0,\n",
       " 6.082762530298219,\n",
       " 6.164414002968976,\n",
       " 6.244997998398398,\n",
       " 6.324555320336759,\n",
       " 6.4031242374328485,\n",
       " 6.48074069840786,\n",
       " 6.557438524302,\n",
       " 6.6332495807108,\n",
       " 6.708203932499369,\n",
       " 6.782329983125268,\n",
       " 6.855654600401044,\n",
       " 6.928203230275509,\n",
       " 7.0,\n",
       " 7.0710678118654755,\n",
       " 7.14142842854285,\n",
       " 7.211102550927978,\n",
       " 7.280109889280518,\n",
       " 7.3484692283495345,\n",
       " 7.416198487095663,\n",
       " 7.483314773547883,\n",
       " 7.54983443527075,\n",
       " 7.615773105863909,\n",
       " 7.681145747868608,\n",
       " 7.745966692414834,\n",
       " 7.810249675906654,\n",
       " 7.874007874011811,\n",
       " 7.937253933193772,\n",
       " 8.0,\n",
       " 8.06225774829855,\n",
       " 8.12403840463596,\n",
       " 8.18535277187245,\n",
       " 8.246211251235321,\n",
       " 8.306623862918075,\n",
       " 8.366600265340756,\n",
       " 8.426149773176359,\n",
       " 8.48528137423857,\n",
       " 8.54400374531753,\n",
       " 8.602325267042627,\n",
       " 8.660254037844387,\n",
       " 8.717797887081348,\n",
       " 8.774964387392123,\n",
       " 8.831760866327848,\n",
       " 8.888194417315589,\n",
       " 8.94427190999916,\n",
       " 9.0,\n",
       " 9.055385138137417,\n",
       " 9.1104335791443,\n",
       " 9.16515138991168,\n",
       " 9.219544457292887,\n",
       " 9.273618495495704,\n",
       " 9.327379053088816,\n",
       " 9.38083151964686,\n",
       " 9.433981132056603,\n",
       " 9.486832980505138,\n",
       " 9.539392014169456,\n",
       " 9.591663046625438,\n",
       " 9.643650760992955,\n",
       " 9.695359714832659,\n",
       " 9.746794344808963,\n",
       " 9.797958971132712,\n",
       " 9.848857801796104,\n",
       " 9.899494936611665,\n",
       " 9.9498743710662,\n",
       " 10.0]"
      ]
     },
     "execution_count": 14,
     "metadata": {},
     "output_type": "execute_result"
    }
   ],
   "source": [
    "sqrt"
   ]
  },
  {
   "cell_type": "code",
   "execution_count": 15,
   "id": "125c2f0d",
   "metadata": {},
   "outputs": [],
   "source": [
    "\n",
    "#4. Create this list [-10,-9,-8,-7,-6,-5,-4,-3,-2,-1,0]. Use my_list as the name of the list.\n",
    "# Remember to use list comprehensions and to print your results"
   ]
  },
  {
   "cell_type": "code",
   "execution_count": 16,
   "id": "a15d33c0",
   "metadata": {},
   "outputs": [],
   "source": [
    "numero = list(range(10,-1,-1))"
   ]
  },
  {
   "cell_type": "code",
   "execution_count": 17,
   "id": "2742c7a0",
   "metadata": {},
   "outputs": [],
   "source": [
    "my_list = [n*(-1) for n in numero]"
   ]
  },
  {
   "cell_type": "code",
   "execution_count": 18,
   "id": "d9715abf",
   "metadata": {},
   "outputs": [
    {
     "data": {
      "text/plain": [
       "[-10, -9, -8, -7, -6, -5, -4, -3, -2, -1, 0]"
      ]
     },
     "execution_count": 18,
     "metadata": {},
     "output_type": "execute_result"
    }
   ],
   "source": [
    "my_list"
   ]
  },
  {
   "cell_type": "code",
   "execution_count": 19,
   "id": "ac87eeac",
   "metadata": {},
   "outputs": [],
   "source": [
    "\n",
    "#5. Find the odd numbers from 1-100. Use odds as the name of the list. \n",
    "# Remember to use list comprehensions and to print your results\n"
   ]
  },
  {
   "cell_type": "code",
   "execution_count": 20,
   "id": "e54ea8c7",
   "metadata": {},
   "outputs": [],
   "source": [
    "numero = list(range(1,101))"
   ]
  },
  {
   "cell_type": "code",
   "execution_count": 21,
   "id": "03aa818a",
   "metadata": {},
   "outputs": [],
   "source": [
    "odds = [n for n in numero if n%2!=0]"
   ]
  },
  {
   "cell_type": "code",
   "execution_count": 22,
   "id": "703e2e29",
   "metadata": {},
   "outputs": [
    {
     "data": {
      "text/plain": [
       "[1,\n",
       " 3,\n",
       " 5,\n",
       " 7,\n",
       " 9,\n",
       " 11,\n",
       " 13,\n",
       " 15,\n",
       " 17,\n",
       " 19,\n",
       " 21,\n",
       " 23,\n",
       " 25,\n",
       " 27,\n",
       " 29,\n",
       " 31,\n",
       " 33,\n",
       " 35,\n",
       " 37,\n",
       " 39,\n",
       " 41,\n",
       " 43,\n",
       " 45,\n",
       " 47,\n",
       " 49,\n",
       " 51,\n",
       " 53,\n",
       " 55,\n",
       " 57,\n",
       " 59,\n",
       " 61,\n",
       " 63,\n",
       " 65,\n",
       " 67,\n",
       " 69,\n",
       " 71,\n",
       " 73,\n",
       " 75,\n",
       " 77,\n",
       " 79,\n",
       " 81,\n",
       " 83,\n",
       " 85,\n",
       " 87,\n",
       " 89,\n",
       " 91,\n",
       " 93,\n",
       " 95,\n",
       " 97,\n",
       " 99]"
      ]
     },
     "execution_count": 22,
     "metadata": {},
     "output_type": "execute_result"
    }
   ],
   "source": [
    "odds"
   ]
  },
  {
   "cell_type": "code",
   "execution_count": 23,
   "id": "0ac4a0a4",
   "metadata": {},
   "outputs": [],
   "source": [
    "#6. Find all of the numbers from 1-1000 that are divisible by 7. Use divisible_by_seven as the name of the list.\n",
    "# Remember to use list comprehensions and to print your results\n",
    "\n"
   ]
  },
  {
   "cell_type": "code",
   "execution_count": 24,
   "id": "a7adc971",
   "metadata": {},
   "outputs": [],
   "source": [
    "numero = list(range(1,1000))"
   ]
  },
  {
   "cell_type": "code",
   "execution_count": 25,
   "id": "06eadefb",
   "metadata": {},
   "outputs": [],
   "source": [
    "divisible_by_seven = [n for n in numero if n%7==0]"
   ]
  },
  {
   "cell_type": "code",
   "execution_count": 26,
   "id": "f624f3f2",
   "metadata": {},
   "outputs": [
    {
     "data": {
      "text/plain": [
       "[7,\n",
       " 14,\n",
       " 21,\n",
       " 28,\n",
       " 35,\n",
       " 42,\n",
       " 49,\n",
       " 56,\n",
       " 63,\n",
       " 70,\n",
       " 77,\n",
       " 84,\n",
       " 91,\n",
       " 98,\n",
       " 105,\n",
       " 112,\n",
       " 119,\n",
       " 126,\n",
       " 133,\n",
       " 140,\n",
       " 147,\n",
       " 154,\n",
       " 161,\n",
       " 168,\n",
       " 175,\n",
       " 182,\n",
       " 189,\n",
       " 196,\n",
       " 203,\n",
       " 210,\n",
       " 217,\n",
       " 224,\n",
       " 231,\n",
       " 238,\n",
       " 245,\n",
       " 252,\n",
       " 259,\n",
       " 266,\n",
       " 273,\n",
       " 280,\n",
       " 287,\n",
       " 294,\n",
       " 301,\n",
       " 308,\n",
       " 315,\n",
       " 322,\n",
       " 329,\n",
       " 336,\n",
       " 343,\n",
       " 350,\n",
       " 357,\n",
       " 364,\n",
       " 371,\n",
       " 378,\n",
       " 385,\n",
       " 392,\n",
       " 399,\n",
       " 406,\n",
       " 413,\n",
       " 420,\n",
       " 427,\n",
       " 434,\n",
       " 441,\n",
       " 448,\n",
       " 455,\n",
       " 462,\n",
       " 469,\n",
       " 476,\n",
       " 483,\n",
       " 490,\n",
       " 497,\n",
       " 504,\n",
       " 511,\n",
       " 518,\n",
       " 525,\n",
       " 532,\n",
       " 539,\n",
       " 546,\n",
       " 553,\n",
       " 560,\n",
       " 567,\n",
       " 574,\n",
       " 581,\n",
       " 588,\n",
       " 595,\n",
       " 602,\n",
       " 609,\n",
       " 616,\n",
       " 623,\n",
       " 630,\n",
       " 637,\n",
       " 644,\n",
       " 651,\n",
       " 658,\n",
       " 665,\n",
       " 672,\n",
       " 679,\n",
       " 686,\n",
       " 693,\n",
       " 700,\n",
       " 707,\n",
       " 714,\n",
       " 721,\n",
       " 728,\n",
       " 735,\n",
       " 742,\n",
       " 749,\n",
       " 756,\n",
       " 763,\n",
       " 770,\n",
       " 777,\n",
       " 784,\n",
       " 791,\n",
       " 798,\n",
       " 805,\n",
       " 812,\n",
       " 819,\n",
       " 826,\n",
       " 833,\n",
       " 840,\n",
       " 847,\n",
       " 854,\n",
       " 861,\n",
       " 868,\n",
       " 875,\n",
       " 882,\n",
       " 889,\n",
       " 896,\n",
       " 903,\n",
       " 910,\n",
       " 917,\n",
       " 924,\n",
       " 931,\n",
       " 938,\n",
       " 945,\n",
       " 952,\n",
       " 959,\n",
       " 966,\n",
       " 973,\n",
       " 980,\n",
       " 987,\n",
       " 994]"
      ]
     },
     "execution_count": 26,
     "metadata": {},
     "output_type": "execute_result"
    }
   ],
   "source": [
    "divisible_by_seven"
   ]
  },
  {
   "cell_type": "code",
   "execution_count": 27,
   "id": "bd0af174",
   "metadata": {},
   "outputs": [],
   "source": [
    "\n",
    "\n",
    "#7. Remove all of the vowels in a string. Hint: make a list of the non-vowels. Use non_vowels as the name of the list.\n",
    "# Remember to use list comprehensions and to print your results\n",
    "# You can use the following test string but feel free to modify at your convenience\n"
   ]
  },
  {
   "cell_type": "code",
   "execution_count": 28,
   "id": "8e4de441",
   "metadata": {},
   "outputs": [
    {
     "name": "stdout",
     "output_type": "stream",
     "text": [
      "dime algo Buenos dias \n"
     ]
    }
   ],
   "source": [
    "frase = input(\"dime algo \")"
   ]
  },
  {
   "cell_type": "code",
   "execution_count": 29,
   "id": "7e9d56f2",
   "metadata": {},
   "outputs": [],
   "source": [
    "frase = (list(frase))"
   ]
  },
  {
   "cell_type": "code",
   "execution_count": 30,
   "id": "6c15404d",
   "metadata": {},
   "outputs": [],
   "source": [
    "vyc = \"aeiouAEIOU ,'.\""
   ]
  },
  {
   "cell_type": "code",
   "execution_count": 31,
   "id": "a405df69",
   "metadata": {},
   "outputs": [],
   "source": [
    "non_vowels =  [a for a in frase if a not in vyc]"
   ]
  },
  {
   "cell_type": "code",
   "execution_count": 80,
   "id": "fec24038",
   "metadata": {},
   "outputs": [
    {
     "data": {
      "text/plain": [
       "['B', 'n', 's', 'd', 's']"
      ]
     },
     "execution_count": 80,
     "metadata": {},
     "output_type": "execute_result"
    }
   ],
   "source": [
    "non_vowels"
   ]
  },
  {
   "cell_type": "code",
   "execution_count": 33,
   "id": "e8f624ea",
   "metadata": {},
   "outputs": [],
   "source": [
    "\n",
    "#8. Find the capital letters (and not white space) in the sentence 'The Quick Brown Fox Jumped Over The Lazy Dog'. \n",
    "# Use capital_letters as the name of the list.  \n",
    "# Remember to use list comprehensions and to print your results\n"
   ]
  },
  {
   "cell_type": "code",
   "execution_count": 34,
   "id": "cb605da6",
   "metadata": {},
   "outputs": [],
   "source": [
    "sentence = list(\"The Quick Brown Fox Jumped Over The Lazy Dog\")"
   ]
  },
  {
   "cell_type": "code",
   "execution_count": 35,
   "id": "7b6c4b68",
   "metadata": {},
   "outputs": [],
   "source": [
    "capital_letters = [a for a in sentence if a.isupper()]"
   ]
  },
  {
   "cell_type": "code",
   "execution_count": 36,
   "id": "343a84c8",
   "metadata": {},
   "outputs": [
    {
     "data": {
      "text/plain": [
       "['T', 'Q', 'B', 'F', 'J', 'O', 'T', 'L', 'D']"
      ]
     },
     "execution_count": 36,
     "metadata": {},
     "output_type": "execute_result"
    }
   ],
   "source": [
    "capital_letters"
   ]
  },
  {
   "cell_type": "code",
   "execution_count": 37,
   "id": "cff62f06",
   "metadata": {},
   "outputs": [],
   "source": [
    "\n",
    "#9. Find all the consonants in the sentence 'The quick brown fox jumped over the lazy dog'.\n",
    "# Use consonants as the name of the list.\n",
    "# Remember to use list comprehensions and to print your results.\n"
   ]
  },
  {
   "cell_type": "code",
   "execution_count": 38,
   "id": "f9c9589a",
   "metadata": {},
   "outputs": [],
   "source": [
    "sentence = list(\"The Quick Brown Fox Jumped Over The Lazy Dog\")"
   ]
  },
  {
   "cell_type": "code",
   "execution_count": 39,
   "id": "7fae8760",
   "metadata": {},
   "outputs": [],
   "source": [
    "sentence = \"A person's a person, no matter how small.\"\n",
    "vyc = \"aeiouAEIOU ,'.\""
   ]
  },
  {
   "cell_type": "code",
   "execution_count": 40,
   "id": "9792048b",
   "metadata": {},
   "outputs": [],
   "source": [
    "consonants = [a for a in sentence if a in vyc]"
   ]
  },
  {
   "cell_type": "code",
   "execution_count": 41,
   "id": "ded486ed",
   "metadata": {},
   "outputs": [
    {
     "data": {
      "text/plain": [
       "['p',\n",
       " 'r',\n",
       " 's',\n",
       " 'n',\n",
       " 's',\n",
       " 'p',\n",
       " 'r',\n",
       " 's',\n",
       " 'n',\n",
       " 'n',\n",
       " 'm',\n",
       " 't',\n",
       " 't',\n",
       " 'r',\n",
       " 'h',\n",
       " 'w',\n",
       " 's',\n",
       " 'm',\n",
       " 'l',\n",
       " 'l']"
      ]
     },
     "execution_count": 41,
     "metadata": {},
     "output_type": "execute_result"
    }
   ],
   "source": [
    "consonants"
   ]
  },
  {
   "cell_type": "code",
   "execution_count": 42,
   "id": "78fb3255",
   "metadata": {},
   "outputs": [],
   "source": [
    "# 10. Find the folders you have in your madrid-oct-2018 local repo. Use files as name of the list.  \n",
    "# You will probably need to import os library and some of its modules. You will need to make some online research.\n",
    "# Remember to use list comprehensions and to print your results.\n",
    "\n",
    "# PENDIENTE DE HACER "
   ]
  },
  {
   "cell_type": "code",
   "execution_count": 43,
   "id": "6cfdb64a",
   "metadata": {},
   "outputs": [],
   "source": [
    "\n",
    "#11. Create 4 lists of 10 random numbers between 0 and 100 each. Use random_lists as the name of the list. \n",
    "#You will probably need to import random module\n",
    "# Remember to use list comprehensions and to print your results\n",
    "\n",
    "# MEDIO SOLUCIONADO"
   ]
  },
  {
   "cell_type": "code",
   "execution_count": 44,
   "id": "a2aeaf5d",
   "metadata": {},
   "outputs": [],
   "source": [
    "unarandoml = []\n",
    "for i in range(10):\n",
    "    n = random.randint(0,100)\n",
    "    unarandoml.append(n)\n"
   ]
  },
  {
   "cell_type": "code",
   "execution_count": 45,
   "id": "fb385d1a",
   "metadata": {},
   "outputs": [
    {
     "data": {
      "text/plain": [
       "[11, 78, 88, 9, 91, 14, 94, 45, 6, 0]"
      ]
     },
     "execution_count": 45,
     "metadata": {},
     "output_type": "execute_result"
    }
   ],
   "source": [
    "unarandoml"
   ]
  },
  {
   "cell_type": "code",
   "execution_count": 46,
   "id": "7627b4ae",
   "metadata": {},
   "outputs": [],
   "source": [
    "random_lists = [unarandoml for i in range(4)]"
   ]
  },
  {
   "cell_type": "code",
   "execution_count": 47,
   "id": "fe4f2d6f",
   "metadata": {},
   "outputs": [
    {
     "data": {
      "text/plain": [
       "[[11, 78, 88, 9, 91, 14, 94, 45, 6, 0],\n",
       " [11, 78, 88, 9, 91, 14, 94, 45, 6, 0],\n",
       " [11, 78, 88, 9, 91, 14, 94, 45, 6, 0],\n",
       " [11, 78, 88, 9, 91, 14, 94, 45, 6, 0]]"
      ]
     },
     "execution_count": 47,
     "metadata": {},
     "output_type": "execute_result"
    }
   ],
   "source": [
    "random_lists"
   ]
  },
  {
   "cell_type": "code",
   "execution_count": 48,
   "id": "b01fc696",
   "metadata": {},
   "outputs": [],
   "source": [
    "#12. Flatten the following list of lists. Use flatten_list as the name of the output.\n",
    "# Remember to use list comprehensions and to print your results"
   ]
  },
  {
   "cell_type": "code",
   "execution_count": 49,
   "id": "83f9406c",
   "metadata": {},
   "outputs": [],
   "source": [
    "list_of_lists = [[1,2,3],[4,5,6],[7,8,9]]"
   ]
  },
  {
   "cell_type": "code",
   "execution_count": 50,
   "id": "9382f563",
   "metadata": {},
   "outputs": [],
   "source": [
    "flatten_list = [i for listo in list_of_lists for i in listo]"
   ]
  },
  {
   "cell_type": "code",
   "execution_count": 51,
   "id": "30910f7c",
   "metadata": {},
   "outputs": [
    {
     "data": {
      "text/plain": [
       "[1, 2, 3, 4, 5, 6, 7, 8, 9]"
      ]
     },
     "execution_count": 51,
     "metadata": {},
     "output_type": "execute_result"
    }
   ],
   "source": [
    "flatten_list"
   ]
  },
  {
   "cell_type": "code",
   "execution_count": 52,
   "id": "c49bafe8",
   "metadata": {},
   "outputs": [],
   "source": [
    "\n",
    "#13. Convert the numbers of the following nested list to floats. Use floats as the name of the list. \n",
    "# Remember to use list comprehensions and to print your results."
   ]
  },
  {
   "cell_type": "code",
   "execution_count": 53,
   "id": "85d25b1f",
   "metadata": {},
   "outputs": [],
   "source": [
    "list_of_lists = [['40', '20', '10', '30'], ['20', '20', '20', '20', '20', '30', '20'], \\\n",
    "['30', '20', '30', '50', '10', '30', '20', '20', '20'], ['100', '100'], ['100', '100', '100', '100', '100'], \\\n",
    "['100', '100', '100', '100']]\n"
   ]
  },
  {
   "cell_type": "code",
   "execution_count": 54,
   "id": "77c8e943",
   "metadata": {},
   "outputs": [],
   "source": [
    "floats = [float(i) for listo in list_of_lists for i in listo]"
   ]
  },
  {
   "cell_type": "code",
   "execution_count": 55,
   "id": "4ec876ba",
   "metadata": {},
   "outputs": [
    {
     "data": {
      "text/plain": [
       "[40.0,\n",
       " 20.0,\n",
       " 10.0,\n",
       " 30.0,\n",
       " 20.0,\n",
       " 20.0,\n",
       " 20.0,\n",
       " 20.0,\n",
       " 20.0,\n",
       " 30.0,\n",
       " 20.0,\n",
       " 30.0,\n",
       " 20.0,\n",
       " 30.0,\n",
       " 50.0,\n",
       " 10.0,\n",
       " 30.0,\n",
       " 20.0,\n",
       " 20.0,\n",
       " 20.0,\n",
       " 100.0,\n",
       " 100.0,\n",
       " 100.0,\n",
       " 100.0,\n",
       " 100.0,\n",
       " 100.0,\n",
       " 100.0,\n",
       " 100.0,\n",
       " 100.0,\n",
       " 100.0,\n",
       " 100.0]"
      ]
     },
     "execution_count": 55,
     "metadata": {},
     "output_type": "execute_result"
    }
   ],
   "source": [
    "floats"
   ]
  },
  {
   "cell_type": "markdown",
   "id": "755423b2",
   "metadata": {},
   "source": [
    "# Error Handling"
   ]
  },
  {
   "cell_type": "code",
   "execution_count": 56,
   "id": "74847700",
   "metadata": {},
   "outputs": [],
   "source": [
    "#14. Handle the exception thrown by the code below by using try and except blocks. "
   ]
  },
  {
   "cell_type": "code",
   "execution_count": 57,
   "id": "549f93a0",
   "metadata": {},
   "outputs": [
    {
     "name": "stdout",
     "output_type": "stream",
     "text": [
      "comprueba tu tipo de datos\n",
      "comprueba tu tipo de datos\n",
      "comprueba tu tipo de datos\n"
     ]
    }
   ],
   "source": [
    "for i in ['a','b','c']:\n",
    "    try: \n",
    "        print(i**2)\n",
    "    except: \n",
    "        print(\"comprueba tu tipo de datos\")\n"
   ]
  },
  {
   "cell_type": "code",
   "execution_count": 58,
   "id": "2d88b7f2",
   "metadata": {},
   "outputs": [],
   "source": [
    "#15. Handle the exception thrown by the code below by using try and except blocks. \n",
    "#Then use a finally block to print 'All Done.'\n",
    "# Check in provided resources the type of error you may use. "
   ]
  },
  {
   "cell_type": "code",
   "execution_count": 59,
   "id": "89169a7b",
   "metadata": {},
   "outputs": [],
   "source": [
    "x = 5\n",
    "y = 0\n"
   ]
  },
  {
   "cell_type": "code",
   "execution_count": 60,
   "id": "af4a2c80",
   "metadata": {},
   "outputs": [],
   "source": [
    "def divide(a,b):\n",
    "    try:\n",
    "        x/y\n",
    "    except: \n",
    "        print(\"La y no será cero verdad\")\n",
    "   "
   ]
  },
  {
   "cell_type": "code",
   "execution_count": 61,
   "id": "5521c110",
   "metadata": {},
   "outputs": [
    {
     "name": "stdout",
     "output_type": "stream",
     "text": [
      "La y no será cero verdad\n"
     ]
    }
   ],
   "source": [
    "divide(x,y)"
   ]
  },
  {
   "cell_type": "code",
   "execution_count": 62,
   "id": "a977a07d",
   "metadata": {},
   "outputs": [],
   "source": [
    "#16. Handle the exception thrown by the code below by using try and except blocks. \n",
    "# Check in provided resources the type of error you may use. "
   ]
  },
  {
   "cell_type": "code",
   "execution_count": 63,
   "id": "48ce2cc1",
   "metadata": {},
   "outputs": [],
   "source": [
    "abc=[10,20,20]\n",
    "def imprime(x):\n",
    "    try:\n",
    "        print(abc[3])\n",
    "    except: \n",
    "        print(\"comprueba tu tipo de datos\")\n",
    "   "
   ]
  },
  {
   "cell_type": "code",
   "execution_count": 64,
   "id": "fd4ebe28",
   "metadata": {},
   "outputs": [
    {
     "name": "stdout",
     "output_type": "stream",
     "text": [
      "comprueba tu tipo de datos\n"
     ]
    }
   ],
   "source": [
    "imprime(abc)"
   ]
  },
  {
   "cell_type": "code",
   "execution_count": 65,
   "id": "09b72e40",
   "metadata": {},
   "outputs": [],
   "source": [
    "\n",
    "#17. Handle at least two kind of different exceptions when dividing a couple of numbers provided by the user. \n",
    "# Hint: take a look on python input function. \n",
    "# Check in provided resources the type of error you may use. \n",
    "\n"
   ]
  },
  {
   "cell_type": "code",
   "execution_count": 66,
   "id": "f63015a2",
   "metadata": {},
   "outputs": [],
   "source": [
    "# Solucionar después\n"
   ]
  },
  {
   "cell_type": "code",
   "execution_count": 67,
   "id": "97b3ad5f",
   "metadata": {},
   "outputs": [
    {
     "name": "stdout",
     "output_type": "stream",
     "text": [
      "dime un numero 1\n"
     ]
    }
   ],
   "source": [
    "n1 = input(\"dime un numero \")"
   ]
  },
  {
   "cell_type": "code",
   "execution_count": 68,
   "id": "b6c5a62e",
   "metadata": {},
   "outputs": [],
   "source": [
    "n1 = int(n1)"
   ]
  },
  {
   "cell_type": "code",
   "execution_count": 69,
   "id": "8b838261",
   "metadata": {},
   "outputs": [
    {
     "name": "stdout",
     "output_type": "stream",
     "text": [
      "dime un numero 2\n"
     ]
    }
   ],
   "source": [
    "n2 = input(\"dime un numero \")"
   ]
  },
  {
   "cell_type": "code",
   "execution_count": 70,
   "id": "7b2d9f7b",
   "metadata": {},
   "outputs": [],
   "source": [
    "n2 = int(n2)"
   ]
  },
  {
   "cell_type": "code",
   "execution_count": 71,
   "id": "56dbc803",
   "metadata": {},
   "outputs": [],
   "source": [
    "def divide(n1,n2):\n",
    "    try:\n",
    "        n1/n2\n",
    "    except: \n",
    "        print(\"La y no será cero verdad\")\n",
    "   "
   ]
  },
  {
   "cell_type": "code",
   "execution_count": 72,
   "id": "60719b66",
   "metadata": {},
   "outputs": [
    {
     "ename": "NameError",
     "evalue": "name 'divide_usuario' is not defined",
     "output_type": "error",
     "traceback": [
      "\u001b[0;31m---------------------------------------------------------------------------\u001b[0m",
      "\u001b[0;31mNameError\u001b[0m                                 Traceback (most recent call last)",
      "\u001b[0;32m<ipython-input-72-3ac3827a70e7>\u001b[0m in \u001b[0;36m<module>\u001b[0;34m\u001b[0m\n\u001b[0;32m----> 1\u001b[0;31m \u001b[0mdivide_usuario\u001b[0m\u001b[0;34m(\u001b[0m\u001b[0mn1\u001b[0m\u001b[0;34m,\u001b[0m\u001b[0mn2\u001b[0m\u001b[0;34m)\u001b[0m\u001b[0;34m\u001b[0m\u001b[0;34m\u001b[0m\u001b[0m\n\u001b[0m",
      "\u001b[0;31mNameError\u001b[0m: name 'divide_usuario' is not defined"
     ]
    }
   ],
   "source": [
    "divide_usuario(n1,n2)"
   ]
  },
  {
   "cell_type": "code",
   "execution_count": null,
   "id": "e658ca40",
   "metadata": {},
   "outputs": [],
   "source": [
    "#18. Handle the exception thrown by the code below by using try and except blocks. \n",
    "# Check in provided resources the type of error you may use. "
   ]
  },
  {
   "cell_type": "code",
   "execution_count": 74,
   "id": "00d76252",
   "metadata": {},
   "outputs": [
    {
     "name": "stdout",
     "output_type": "stream",
     "text": [
      "File not found on your computer: [Errno 2] No such file or directory: 'testfile'\n"
     ]
    }
   ],
   "source": [
    "try:\n",
    "    open('testfile','r')\n",
    "except Exception as err:\n",
    "    print(f\"File not found on your computer: {err}\")"
   ]
  },
  {
   "cell_type": "code",
   "execution_count": null,
   "id": "3fe442b2",
   "metadata": {},
   "outputs": [],
   "source": [
    "#19. Handle the exceptions that can be thrown by the code below using try and except blocks. \n",
    "#Hint: the file could not exist and the data could not be convertable to int"
   ]
  },
  {
   "cell_type": "code",
   "execution_count": 73,
   "id": "ec5b31f6",
   "metadata": {},
   "outputs": [
    {
     "ename": "FileNotFoundError",
     "evalue": "[Errno 2] No such file or directory: 'myfile.txt'",
     "output_type": "error",
     "traceback": [
      "\u001b[0;31m---------------------------------------------------------------------------\u001b[0m",
      "\u001b[0;31mFileNotFoundError\u001b[0m                         Traceback (most recent call last)",
      "\u001b[0;32m<ipython-input-73-76c84e3c7190>\u001b[0m in \u001b[0;36m<module>\u001b[0;34m\u001b[0m\n\u001b[1;32m      1\u001b[0m \u001b[0;31m#1\u001b[0m\u001b[0;34m\u001b[0m\u001b[0;34m\u001b[0m\u001b[0;34m\u001b[0m\u001b[0m\n\u001b[0;32m----> 2\u001b[0;31m \u001b[0mfp\u001b[0m \u001b[0;34m=\u001b[0m \u001b[0mopen\u001b[0m\u001b[0;34m(\u001b[0m\u001b[0;34m'myfile.txt'\u001b[0m\u001b[0;34m)\u001b[0m\u001b[0;34m\u001b[0m\u001b[0;34m\u001b[0m\u001b[0m\n\u001b[0m",
      "\u001b[0;31mFileNotFoundError\u001b[0m: [Errno 2] No such file or directory: 'myfile.txt'"
     ]
    }
   ],
   "source": [
    "#1 \n",
    "fp = open('myfile.txt')\n"
   ]
  },
  {
   "cell_type": "code",
   "execution_count": 75,
   "id": "28ea5325",
   "metadata": {},
   "outputs": [
    {
     "name": "stdout",
     "output_type": "stream",
     "text": [
      "File not found on your computer: name 'myfile' is not defined\n"
     ]
    }
   ],
   "source": [
    "#1\n",
    "try:\n",
    "    open(myfile.txt)\n",
    "except Exception as err:\n",
    "    print(f\"File not found on your computer: {err}\")"
   ]
  },
  {
   "cell_type": "code",
   "execution_count": 76,
   "id": "456475e1",
   "metadata": {},
   "outputs": [
    {
     "ename": "NameError",
     "evalue": "name 'fp' is not defined",
     "output_type": "error",
     "traceback": [
      "\u001b[0;31m---------------------------------------------------------------------------\u001b[0m",
      "\u001b[0;31mNameError\u001b[0m                                 Traceback (most recent call last)",
      "\u001b[0;32m<ipython-input-76-f21545c0c9c9>\u001b[0m in \u001b[0;36m<module>\u001b[0;34m\u001b[0m\n\u001b[1;32m      1\u001b[0m \u001b[0;31m#2\u001b[0m\u001b[0;34m\u001b[0m\u001b[0;34m\u001b[0m\u001b[0;34m\u001b[0m\u001b[0m\n\u001b[0;32m----> 2\u001b[0;31m \u001b[0mline\u001b[0m \u001b[0;34m=\u001b[0m \u001b[0mfp\u001b[0m\u001b[0;34m.\u001b[0m\u001b[0mreadline\u001b[0m\u001b[0;34m(\u001b[0m\u001b[0;34m)\u001b[0m\u001b[0;34m\u001b[0m\u001b[0;34m\u001b[0m\u001b[0m\n\u001b[0m",
      "\u001b[0;31mNameError\u001b[0m: name 'fp' is not defined"
     ]
    }
   ],
   "source": [
    "#2\n",
    "line = fp.readline()\n"
   ]
  },
  {
   "cell_type": "code",
   "execution_count": 77,
   "id": "9ad3c967",
   "metadata": {},
   "outputs": [
    {
     "name": "stdout",
     "output_type": "stream",
     "text": [
      " name 'line' is not defined no se ha podido imprimir, mira la sintaxis interna\n"
     ]
    }
   ],
   "source": [
    "#2\n",
    "try:\n",
    "    print(line)\n",
    "except Exception as err:\n",
    "    print(f\" {err} no se ha podido imprimir, mira la sintaxis interna\")"
   ]
  },
  {
   "cell_type": "code",
   "execution_count": null,
   "id": "55192973",
   "metadata": {},
   "outputs": [],
   "source": [
    "#3 ¡! He puesto un _2 para que no coja el in anterior\n",
    "i_2 = int(s.strip())"
   ]
  },
  {
   "cell_type": "code",
   "execution_count": 78,
   "id": "ab1d02a9",
   "metadata": {},
   "outputs": [
    {
     "name": "stdout",
     "output_type": "stream",
     "text": [
      " name 'i_2' is not defined no se ha podido imprimir, mira la sintaxis interna\n"
     ]
    }
   ],
   "source": [
    "#3\n",
    "try:\n",
    "    print(i_2)\n",
    "except Exception as err:\n",
    "    print(f\" {err} no se ha podido imprimir, mira la sintaxis interna\")"
   ]
  },
  {
   "cell_type": "code",
   "execution_count": null,
   "id": "5482107a",
   "metadata": {},
   "outputs": [],
   "source": [
    "#20. The following function can only run on a Linux system. \n",
    "# The assert in this function will throw an exception if you call it on an operating system other than Linux. \n",
    "# Handle this exception using try and except blocks. \n",
    "# You will probably need to import sys "
   ]
  },
  {
   "cell_type": "code",
   "execution_count": 79,
   "id": "0f572800",
   "metadata": {},
   "outputs": [],
   "source": [
    "def linux_interaction():\n",
    "    assert ('linux' in sys.platform), \"Function can only run on Linux systems.\"\n",
    "    print('Doing something.')"
   ]
  }
 ],
 "metadata": {
  "kernelspec": {
   "display_name": "Python 3",
   "language": "python",
   "name": "python3"
  },
  "language_info": {
   "codemirror_mode": {
    "name": "ipython",
    "version": 3
   },
   "file_extension": ".py",
   "mimetype": "text/x-python",
   "name": "python",
   "nbconvert_exporter": "python",
   "pygments_lexer": "ipython3",
   "version": "3.8.5"
  }
 },
 "nbformat": 4,
 "nbformat_minor": 5
}
